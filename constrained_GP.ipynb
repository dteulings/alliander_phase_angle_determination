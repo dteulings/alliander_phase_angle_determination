{
 "cells": [
  {
   "cell_type": "code",
   "execution_count": 2,
   "id": "568c816a",
   "metadata": {},
   "outputs": [
    {
     "ename": "AssertionError",
     "evalue": "",
     "output_type": "error",
     "traceback": [
      "\u001b[1;31m---------------------------------------------------------------------------\u001b[0m",
      "\u001b[1;31mAssertionError\u001b[0m                            Traceback (most recent call last)",
      "Cell \u001b[1;32mIn [2], line 19\u001b[0m\n\u001b[0;32m     17\u001b[0m model2 \u001b[38;5;241m=\u001b[39m GPy\u001b[38;5;241m.\u001b[39mmodels\u001b[38;5;241m.\u001b[39mGPRegression(X, Y2, kernel2)\n\u001b[0;32m     18\u001b[0m likelihood_list \u001b[38;5;241m=\u001b[39m [GPy\u001b[38;5;241m.\u001b[39mlikelihoods\u001b[38;5;241m.\u001b[39mGaussian(), GPy\u001b[38;5;241m.\u001b[39mlikelihoods\u001b[38;5;241m.\u001b[39mGaussian()]\n\u001b[1;32m---> 19\u001b[0m model3 \u001b[38;5;241m=\u001b[39m \u001b[43mGPy\u001b[49m\u001b[38;5;241;43m.\u001b[39;49m\u001b[43mmodels\u001b[49m\u001b[38;5;241;43m.\u001b[39;49m\u001b[43mMultioutputGP\u001b[49m\u001b[43m(\u001b[49m\u001b[43mX\u001b[49m\u001b[43m,\u001b[49m\u001b[43m \u001b[49m\u001b[43m[\u001b[49m\u001b[43mY1\u001b[49m\u001b[43m,\u001b[49m\u001b[43m \u001b[49m\u001b[43mY2\u001b[49m\u001b[43m]\u001b[49m\u001b[43m,\u001b[49m\u001b[43m \u001b[49m\u001b[43mkernel_list\u001b[49m\u001b[38;5;241;43m=\u001b[39;49m\u001b[43mkernel3\u001b[49m\u001b[38;5;241;43m.\u001b[39;49m\u001b[43mcopy\u001b[49m\u001b[43m(\u001b[49m\u001b[43m)\u001b[49m\u001b[43m,\u001b[49m\u001b[43m \u001b[49m\u001b[43mlikelihood_list\u001b[49m\u001b[38;5;241;43m=\u001b[39;49m\u001b[43mlikelihood_list\u001b[49m\u001b[43m)\u001b[49m\n\u001b[0;32m     20\u001b[0m model3\u001b[38;5;241m.\u001b[39mkern \u001b[38;5;241m=\u001b[39m kernel3\u001b[38;5;241m.\u001b[39mcopy()\n\u001b[0;32m     22\u001b[0m \u001b[38;5;66;03m# define the sum constraint\u001b[39;00m\n",
      "File \u001b[1;32m~\\anaconda3\\envs\\alliander\\lib\\site-packages\\paramz\\parameterized.py:53\u001b[0m, in \u001b[0;36mParametersChangedMeta.__call__\u001b[1;34m(self, *args, **kw)\u001b[0m\n\u001b[0;32m     51\u001b[0m \u001b[38;5;66;03m#import ipdb;ipdb.set_trace()\u001b[39;00m\n\u001b[0;32m     52\u001b[0m initialize \u001b[38;5;241m=\u001b[39m kw\u001b[38;5;241m.\u001b[39mpop(\u001b[38;5;124m'\u001b[39m\u001b[38;5;124minitialize\u001b[39m\u001b[38;5;124m'\u001b[39m, \u001b[38;5;28;01mTrue\u001b[39;00m)\n\u001b[1;32m---> 53\u001b[0m \u001b[38;5;28mself\u001b[39m \u001b[38;5;241m=\u001b[39m \u001b[38;5;28msuper\u001b[39m(ParametersChangedMeta, \u001b[38;5;28mself\u001b[39m)\u001b[38;5;241m.\u001b[39m\u001b[38;5;21m__call__\u001b[39m(\u001b[38;5;241m*\u001b[39margs, \u001b[38;5;241m*\u001b[39m\u001b[38;5;241m*\u001b[39mkw)\n\u001b[0;32m     54\u001b[0m \u001b[38;5;66;03m#logger.debug(\"finished init\")\u001b[39;00m\n\u001b[0;32m     55\u001b[0m \u001b[38;5;28mself\u001b[39m\u001b[38;5;241m.\u001b[39m_in_init_ \u001b[38;5;241m=\u001b[39m \u001b[38;5;28;01mFalse\u001b[39;00m\n",
      "File \u001b[1;32m~\\anaconda3\\envs\\alliander\\lib\\site-packages\\GPy\\models\\multioutput_gp.py:35\u001b[0m, in \u001b[0;36mMultioutputGP.__init__\u001b[1;34m(self, X_list, Y_list, kernel_list, likelihood_list, name, kernel_cross_covariances, inference_method)\u001b[0m\n\u001b[0;32m     33\u001b[0m \u001b[38;5;28;01mdef\u001b[39;00m \u001b[38;5;21m__init__\u001b[39m(\u001b[38;5;28mself\u001b[39m, X_list, Y_list, kernel_list, likelihood_list, name\u001b[38;5;241m=\u001b[39m\u001b[38;5;124m'\u001b[39m\u001b[38;5;124mmultioutputgp\u001b[39m\u001b[38;5;124m'\u001b[39m, kernel_cross_covariances\u001b[38;5;241m=\u001b[39m{}, inference_method\u001b[38;5;241m=\u001b[39m\u001b[38;5;28;01mNone\u001b[39;00m):\n\u001b[0;32m     34\u001b[0m     \u001b[38;5;66;03m#Input and Output\u001b[39;00m\n\u001b[1;32m---> 35\u001b[0m     X,Y,\u001b[38;5;28mself\u001b[39m\u001b[38;5;241m.\u001b[39moutput_index \u001b[38;5;241m=\u001b[39m \u001b[43mutil\u001b[49m\u001b[38;5;241;43m.\u001b[39;49m\u001b[43mmultioutput\u001b[49m\u001b[38;5;241;43m.\u001b[39;49m\u001b[43mbuild_XY\u001b[49m\u001b[43m(\u001b[49m\u001b[43mX_list\u001b[49m\u001b[43m,\u001b[49m\u001b[43mY_list\u001b[49m\u001b[43m)\u001b[49m\n\u001b[0;32m     36\u001b[0m     Ny \u001b[38;5;241m=\u001b[39m \u001b[38;5;28mlen\u001b[39m(Y_list)\n\u001b[0;32m     38\u001b[0m     \u001b[38;5;28;01massert\u001b[39;00m \u001b[38;5;28misinstance\u001b[39m(kernel_list, \u001b[38;5;28mlist\u001b[39m)\n",
      "File \u001b[1;32m~\\anaconda3\\envs\\alliander\\lib\\site-packages\\GPy\\util\\multioutput.py:43\u001b[0m, in \u001b[0;36mbuild_XY\u001b[1;34m(input_list, output_list, index)\u001b[0m\n\u001b[0;32m     41\u001b[0m num_outputs \u001b[38;5;241m=\u001b[39m \u001b[38;5;28mlen\u001b[39m(input_list)\n\u001b[0;32m     42\u001b[0m \u001b[38;5;28;01mif\u001b[39;00m output_list \u001b[38;5;129;01mis\u001b[39;00m \u001b[38;5;129;01mnot\u001b[39;00m \u001b[38;5;28;01mNone\u001b[39;00m:\n\u001b[1;32m---> 43\u001b[0m     \u001b[38;5;28;01massert\u001b[39;00m num_outputs \u001b[38;5;241m==\u001b[39m \u001b[38;5;28mlen\u001b[39m(output_list)\n\u001b[0;32m     44\u001b[0m     Y \u001b[38;5;241m=\u001b[39m np\u001b[38;5;241m.\u001b[39mvstack(output_list)\n\u001b[0;32m     45\u001b[0m \u001b[38;5;28;01melse\u001b[39;00m:\n",
      "\u001b[1;31mAssertionError\u001b[0m: "
     ]
    }
   ],
   "source": [
    "import GPy\n",
    "import numpy as np\n",
    "\n",
    "# define the input data and output values\n",
    "X = np.random.uniform(0, 1, (50, 1))\n",
    "Y1 = np.sin(X) + np.random.normal(0, 0.1, (50, 1))\n",
    "Y2 = np.cos(X) + np.random.normal(0, 0.1, (50, 1))\n",
    "Y3 = Y1 + Y2\n",
    "\n",
    "# define the kernel functions\n",
    "kernel1 = GPy.kern.RBF(input_dim=1)\n",
    "kernel2 = GPy.kern.RBF(input_dim=1)\n",
    "kernel3 = kernel1 + kernel2\n",
    "\n",
    "# define the models\n",
    "model1 = GPy.models.GPRegression(X, Y1, kernel1)\n",
    "model2 = GPy.models.GPRegression(X, Y2, kernel2)\n",
    "likelihood_list = [GPy.likelihoods.Gaussian(), GPy.likelihoods.Gaussian()]\n",
    "model3 = GPy.models.MultioutputGP(X, [Y1, Y2], kernel_list=None, likelihood_list=likelihood_list)\n",
    "model3.kern = kernel3.copy()\n",
    "\n",
    "# define the sum constraint\n",
    "A = np.array([[0, 0, 1]])\n",
    "b = np.array([Y3.sum()])\n",
    "\n",
    "# set the constraint on the kernel of the multitask model\n",
    "kernel3.constrain(np.dot(A, kernel3.param_array), \"==\", b)\n",
    "\n",
    "# optimize the models\n",
    "model1.optimize()\n",
    "model2.optimize()\n",
    "model3.optimize()\n",
    "\n",
    "# make predictions\n",
    "X_test = np.linspace(0, 1, 100).reshape(-1, 1)\n",
    "Y1_test, _ = model1.predict(X_test)\n",
    "Y2_test, _ = model2.predict(X_test)\n",
    "Y3_test, _ = model3.predict(X_test)\n",
    "\n",
    "# plot the results\n",
    "import matplotlib.pyplot as plt\n",
    "\n",
    "plt.plot(X_test, Y1_test, label='Y1')\n",
    "plt.plot(X_test, Y2_test, label='Y2')\n",
    "plt.plot(X_test, Y3_test[:, 0], label='Y3_1')\n",
    "plt.plot(X_test, Y3_test[:, 1], label='Y3_2')\n",
    "plt.legend()\n",
    "plt.show()\n"
   ]
  },
  {
   "cell_type": "code",
   "execution_count": null,
   "id": "ab0e1113",
   "metadata": {},
   "outputs": [],
   "source": []
  }
 ],
 "metadata": {
  "kernelspec": {
   "display_name": "Python 3 (ipykernel)",
   "language": "python",
   "name": "python3"
  },
  "language_info": {
   "codemirror_mode": {
    "name": "ipython",
    "version": 3
   },
   "file_extension": ".py",
   "mimetype": "text/x-python",
   "name": "python",
   "nbconvert_exporter": "python",
   "pygments_lexer": "ipython3",
   "version": "3.9.13"
  }
 },
 "nbformat": 4,
 "nbformat_minor": 5
}
